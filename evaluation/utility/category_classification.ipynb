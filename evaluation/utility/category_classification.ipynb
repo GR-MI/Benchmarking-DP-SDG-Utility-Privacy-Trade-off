{
 "cells": [
  {
   "cell_type": "code",
   "execution_count": 10,
   "metadata": {},
   "outputs": [],
   "source": [
    "import pandas as pd\n",
    "import xgboost as xgb\n",
    "from sklearn.metrics import roc_auc_score\n",
    "from sklearn.model_selection import train_test_split\n",
    "import numpy as np"
   ]
  },
  {
   "cell_type": "code",
   "execution_count": 11,
   "metadata": {},
   "outputs": [],
   "source": [
    "fem = pd.read_csv(r'traning_data')\n",
    "aim = pd.read_csv(r'tranig_data')\n",
    "privbayes = pd.read_csv(r'tranig_data')\n",
    "mst = pd.read_csv(r'tranig_data')\n",
    "mwem = pd.read_csv(r'tranig_data')\n",
    "dpgan = pd.read_csv(r'tranig_data')\n",
    "dpctgan = pd.read_csv(r'tranig_data')\n",
    "pategan = pd.read_csv(r'tranig_data')\n",
    "patectgan = pd.read_csv(r'tranig_data')"
   ]
  },
  {
   "cell_type": "code",
   "execution_count": 12,
   "metadata": {},
   "outputs": [],
   "source": [
    "def train_and_evaluate(dataset, test_data, target_column, n_iterations=10):\n",
    "    auroc_scores = []\n",
    "    \n",
    "    # Split the dataset into features and target\n",
    "    X = dataset.drop(columns=[target_column])\n",
    "    y = dataset[target_column]\n",
    "    \n",
    "    # Check if the target variable has both classes (0 and 1)\n",
    "    if len(y.unique()) < 2:\n",
    "        print(f\"Skipping dataset - Target variable has only one class: {y.unique()}\")\n",
    "        return None\n",
    "    \n",
    "    # Split the test dataset into features and target\n",
    "    X_test = test_data.drop(columns=[target_column])\n",
    "    y_test = test_data[target_column]\n",
    "    \n",
    "    for i in range(n_iterations):\n",
    "        # Split training data for training and validation\n",
    "        X_train, X_val, y_train, y_val = train_test_split(X, y, test_size=0.2, random_state=i)\n",
    "        \n",
    "        # Create a fresh XGBoost model\n",
    "        model = xgb.XGBClassifier(eval_metric='logloss', random_state=i)\n",
    "        \n",
    "        # Train the model\n",
    "        model.fit(X_train, y_train, eval_set=[(X_val, y_val)], verbose=False)\n",
    "        \n",
    "        # Predict probabilities for the test data\n",
    "        y_pred_proba = model.predict_proba(X_test)[:, 1]\n",
    "        \n",
    "        # Calculate AUROC score\n",
    "        auroc = roc_auc_score(y_test, y_pred_proba)\n",
    "        auroc_scores.append(auroc)\n",
    "    \n",
    "    # Return the average AUROC score across iterations\n",
    "    return np.mean(auroc_scores)"
   ]
  },
  {
   "cell_type": "code",
   "execution_count": 13,
   "metadata": {},
   "outputs": [],
   "source": [
    "target_column = 'label'"
   ]
  },
  {
   "cell_type": "code",
   "execution_count": 14,
   "metadata": {},
   "outputs": [],
   "source": [
    "pp_csv = pd.read_csv('test_file')"
   ]
  },
  {
   "cell_type": "code",
   "execution_count": 15,
   "metadata": {},
   "outputs": [
    {
     "name": "stdout",
     "output_type": "stream",
     "text": [
      "Processing Dataset FEM...\n",
      "FEM: Average AUROC Score: 0.5859\n",
      "Processing Dataset AIM...\n",
      "AIM: Average AUROC Score: 0.6911\n",
      "Processing Dataset PrivBayes...\n",
      "PrivBayes: Average AUROC Score: 0.6302\n",
      "Processing Dataset MST...\n",
      "MST: Average AUROC Score: 0.5349\n",
      "Processing Dataset MWEM...\n",
      "MWEM: Average AUROC Score: 0.6551\n",
      "Processing Dataset DPGAN...\n",
      "Skipping dataset - Target variable has only one class: [1]\n",
      "DPGAN: Skipped due to insufficient target class diversity.\n",
      "Processing Dataset DPCTGAN...\n",
      "DPCTGAN: Average AUROC Score: 0.5959\n",
      "Processing Dataset DPCTGAN...\n",
      "DPCTGAN: Average AUROC Score: 0.4026\n",
      "Processing Dataset PATECTGAN...\n",
      "PATECTGAN: Average AUROC Score: 0.5374\n"
     ]
    }
   ],
   "source": [
    "# Define the dataset names corresponding to your datasets\n",
    "dataset_names = [\"FEM\",\"AIM\",\"PrivBayes\", \"MST\", \"MWEM\",\"DPGAN\",\"DPCTGAN\", \"DPCTGAN\",\"PATECTGAN\"]\n",
    "datasets = [fem,aim, privbayes, mst, mwem, dpgan, dpctgan,pategan, patectgan]\n",
    "\n",
    "# Loop through datasets with their names\n",
    "for dataset_name, dataset in zip(dataset_names, datasets):\n",
    "    print(f\"Processing Dataset {dataset_name}...\")\n",
    "    auroc = train_and_evaluate(dataset, pp_csv, target_column)\n",
    "    if auroc is not None:\n",
    "        print(f\"{dataset_name}: Average AUROC Score: {auroc:.4f}\")\n",
    "    else:\n",
    "        print(f\"{dataset_name}: Skipped due to insufficient target class diversity.\")\n"
   ]
  }
 ],
 "metadata": {
  "kernelspec": {
   "display_name": "base",
   "language": "python",
   "name": "python3"
  },
  "language_info": {
   "codemirror_mode": {
    "name": "ipython",
    "version": 3
   },
   "file_extension": ".py",
   "mimetype": "text/x-python",
   "name": "python",
   "nbconvert_exporter": "python",
   "pygments_lexer": "ipython3",
   "version": "3.11.5"
  }
 },
 "nbformat": 4,
 "nbformat_minor": 2
}
